{
 "cells": [
  {
   "cell_type": "code",
   "execution_count": 1,
   "id": "26e24afe",
   "metadata": {},
   "outputs": [
    {
     "data": {
      "text/plain": [
       "True"
      ]
     },
     "execution_count": 1,
     "metadata": {},
     "output_type": "execute_result"
    }
   ],
   "source": [
    "import pandas as pd\n",
    "import numpy as np\n",
    "import yfinance as yf\n",
    "import math\n",
    "import nltk\n",
    "from nltk.sentiment.vader import SentimentIntensityAnalyzer\n",
    "nltk.download(\"vader_lexicon\", quiet=True)"
   ]
  },
  {
   "cell_type": "code",
   "execution_count": 2,
   "id": "cebdd583",
   "metadata": {},
   "outputs": [],
   "source": [
    "comp = 'AMZN'\n",
    "tk = yf.Ticker(f\"{comp}\")\n",
    "news_content = tk.get_news()"
   ]
  },
  {
   "cell_type": "code",
   "execution_count": null,
   "id": "8901739d",
   "metadata": {},
   "outputs": [],
   "source": [
    "d = []\n",
    "for i in range(0, len(news_content)):\n",
    "    dates = news_content[i]['content']['pubDate']\n",
    "    d.append(dates)\n",
    "\n",
    "headlines_list = []\n",
    "for i in range(0, len(news_content)):\n",
    "    headlines = news_content[i]['content']['title']\n",
    "    headlines_list.append(headlines)"
   ]
  },
  {
   "cell_type": "code",
   "execution_count": 4,
   "id": "b4a558f8",
   "metadata": {},
   "outputs": [
    {
     "data": {
      "text/plain": [
       "['2025-08-01T20:00:32Z',\n",
       " '2025-08-01T20:36:29Z',\n",
       " '2025-08-01T15:30:00Z',\n",
       " '2025-08-01T13:42:09Z',\n",
       " '2025-07-31T20:03:50Z',\n",
       " '2025-08-01T10:00:55Z',\n",
       " '2025-08-02T01:31:12Z',\n",
       " '2025-08-01T21:52:00Z',\n",
       " '2025-08-01T21:23:39Z',\n",
       " '2025-08-01T21:15:18Z']"
      ]
     },
     "execution_count": 4,
     "metadata": {},
     "output_type": "execute_result"
    }
   ],
   "source": [
    "d"
   ]
  },
  {
   "cell_type": "code",
   "execution_count": null,
   "id": "e9994fce",
   "metadata": {},
   "outputs": [],
   "source": []
  },
  {
   "cell_type": "code",
   "execution_count": 6,
   "id": "93c0b03d",
   "metadata": {},
   "outputs": [
    {
     "data": {
      "text/plain": [
       "10"
      ]
     },
     "execution_count": 6,
     "metadata": {},
     "output_type": "execute_result"
    }
   ],
   "source": [
    "len(headlines_list)"
   ]
  },
  {
   "cell_type": "code",
   "execution_count": 45,
   "id": "8d12f354",
   "metadata": {},
   "outputs": [],
   "source": [
    "sentiment_df = pd.DataFrame()\n",
    "sentiment_df['date'] = pd.Series(d)\n",
    "sentiment_df['headlines'] = pd.Series(headlines_list)\n",
    "sia = SentimentIntensityAnalyzer()\n",
    "sentiment_df['sentiment'] = sentiment_df['headlines'].apply(lambda x: sia.polarity_scores(x))\n"
   ]
  },
  {
   "cell_type": "code",
   "execution_count": 8,
   "id": "78bb768d",
   "metadata": {},
   "outputs": [],
   "source": [
    "sia = SentimentIntensityAnalyzer()\n",
    "\n",
    "def computing_sentiments(dataframe):\n",
    "    return dataframe['headlines'].apply(lambda x: sia.polarity_scores(x))\n"
   ]
  },
  {
   "cell_type": "code",
   "execution_count": 9,
   "id": "fab539a4",
   "metadata": {},
   "outputs": [
    {
     "name": "stdout",
     "output_type": "stream",
     "text": [
      "0    {'neg': 0.131, 'neu': 0.721, 'pos': 0.149, 'co...\n",
      "1    {'neg': 0.0, 'neu': 0.777, 'pos': 0.223, 'comp...\n",
      "2    {'neg': 0.18, 'neu': 0.82, 'pos': 0.0, 'compou...\n",
      "3    {'neg': 0.0, 'neu': 0.825, 'pos': 0.175, 'comp...\n",
      "4    {'neg': 0.084, 'neu': 0.844, 'pos': 0.071, 'co...\n",
      "5    {'neg': 0.0, 'neu': 0.811, 'pos': 0.189, 'comp...\n",
      "6    {'neg': 0.307, 'neu': 0.693, 'pos': 0.0, 'comp...\n",
      "7    {'neg': 0.0, 'neu': 0.721, 'pos': 0.279, 'comp...\n",
      "8    {'neg': 0.0, 'neu': 0.805, 'pos': 0.195, 'comp...\n",
      "9    {'neg': 0.191, 'neu': 0.809, 'pos': 0.0, 'comp...\n",
      "Name: headlines, dtype: object\n"
     ]
    }
   ],
   "source": [
    "print(computing_sentiments(sentiment_df))"
   ]
  },
  {
   "cell_type": "code",
   "execution_count": 10,
   "id": "a92fae8c",
   "metadata": {},
   "outputs": [
    {
     "data": {
      "text/plain": [
       "Date\n",
       "2020-08-04 00:00:00-04:00    0.861986\n",
       "2020-08-05 00:00:00-04:00    2.087132\n",
       "2020-08-06 00:00:00-04:00    0.621153\n",
       "2020-08-07 00:00:00-04:00   -1.800294\n",
       "2020-08-10 00:00:00-04:00   -0.611183\n",
       "                               ...   \n",
       "2025-07-28 00:00:00-04:00    0.581606\n",
       "2025-07-29 00:00:00-04:00   -0.767575\n",
       "2025-07-30 00:00:00-04:00   -0.355591\n",
       "2025-07-31 00:00:00-04:00    1.688603\n",
       "2025-08-01 00:00:00-04:00   -8.631653\n",
       "Name: Close, Length: 1255, dtype: float64"
      ]
     },
     "execution_count": 10,
     "metadata": {},
     "output_type": "execute_result"
    }
   ],
   "source": [
    "stock_data = tk.history(period='5y', interval='1d')\n",
    "log_returns = 100 * np.log(stock_data['Close']/stock_data['Close'].shift(1))\n",
    "log_returns = log_returns.dropna()\n",
    "log_returns"
   ]
  },
  {
   "cell_type": "code",
   "execution_count": 11,
   "id": "d85b3bf0",
   "metadata": {},
   "outputs": [],
   "source": [
    "hist_vol = log_returns.rolling(window=7).std()"
   ]
  },
  {
   "cell_type": "code",
   "execution_count": 12,
   "id": "536d7029",
   "metadata": {},
   "outputs": [
    {
     "data": {
      "text/plain": [
       "Date\n",
       "2020-08-12 00:00:00-04:00    1.837460\n",
       "2020-08-13 00:00:00-04:00    1.817194\n",
       "2020-08-14 00:00:00-04:00    1.593612\n",
       "2020-08-17 00:00:00-04:00    1.645193\n",
       "2020-08-18 00:00:00-04:00    2.099093\n",
       "                               ...   \n",
       "2025-07-28 00:00:00-04:00    0.905179\n",
       "2025-07-29 00:00:00-04:00    1.002487\n",
       "2025-07-30 00:00:00-04:00    0.898901\n",
       "2025-07-31 00:00:00-04:00    0.991315\n",
       "2025-08-01 00:00:00-04:00    3.561702\n",
       "Name: Close, Length: 1249, dtype: float64"
      ]
     },
     "execution_count": 12,
     "metadata": {},
     "output_type": "execute_result"
    }
   ],
   "source": [
    "hist_vol = hist_vol.dropna()\n",
    "hist_vol"
   ]
  },
  {
   "cell_type": "code",
   "execution_count": 13,
   "id": "e8897f6d",
   "metadata": {},
   "outputs": [],
   "source": [
    "hist_vol.index = hist_vol.index.date"
   ]
  },
  {
   "cell_type": "code",
   "execution_count": 14,
   "id": "bbbb5785",
   "metadata": {},
   "outputs": [
    {
     "data": {
      "text/plain": [
       "2020-08-12    1.837460\n",
       "2020-08-13    1.817194\n",
       "2020-08-14    1.593612\n",
       "2020-08-17    1.645193\n",
       "2020-08-18    2.099093\n",
       "                ...   \n",
       "2025-07-28    0.905179\n",
       "2025-07-29    1.002487\n",
       "2025-07-30    0.898901\n",
       "2025-07-31    0.991315\n",
       "2025-08-01    3.561702\n",
       "Name: Close, Length: 1249, dtype: float64"
      ]
     },
     "execution_count": 14,
     "metadata": {},
     "output_type": "execute_result"
    }
   ],
   "source": [
    "hist_vol"
   ]
  },
  {
   "cell_type": "code",
   "execution_count": 15,
   "id": "586c48e7",
   "metadata": {},
   "outputs": [],
   "source": [
    "sentiment_df['date'] = pd.to_datetime(sentiment_df['date']).dt.date"
   ]
  },
  {
   "cell_type": "code",
   "execution_count": 16,
   "id": "1fffe3f5",
   "metadata": {},
   "outputs": [
    {
     "data": {
      "text/html": [
       "<div>\n",
       "<style scoped>\n",
       "    .dataframe tbody tr th:only-of-type {\n",
       "        vertical-align: middle;\n",
       "    }\n",
       "\n",
       "    .dataframe tbody tr th {\n",
       "        vertical-align: top;\n",
       "    }\n",
       "\n",
       "    .dataframe thead th {\n",
       "        text-align: right;\n",
       "    }\n",
       "</style>\n",
       "<table border=\"1\" class=\"dataframe\">\n",
       "  <thead>\n",
       "    <tr style=\"text-align: right;\">\n",
       "      <th></th>\n",
       "      <th>date</th>\n",
       "      <th>headlines</th>\n",
       "    </tr>\n",
       "  </thead>\n",
       "  <tbody>\n",
       "    <tr>\n",
       "      <th>0</th>\n",
       "      <td>2025-08-01</td>\n",
       "      <td>Stock market today: Dow, S&amp;P 500, Nasdaq tank ...</td>\n",
       "    </tr>\n",
       "    <tr>\n",
       "      <th>1</th>\n",
       "      <td>2025-08-01</td>\n",
       "      <td>Big Tech's huge AI spending spree: A closer lo...</td>\n",
       "    </tr>\n",
       "    <tr>\n",
       "      <th>2</th>\n",
       "      <td>2025-08-01</td>\n",
       "      <td>July jobs report: AI is contributing to job cu...</td>\n",
       "    </tr>\n",
       "    <tr>\n",
       "      <th>3</th>\n",
       "      <td>2025-08-01</td>\n",
       "      <td>Amazon &amp; Apple earnings: Takeaways from the te...</td>\n",
       "    </tr>\n",
       "    <tr>\n",
       "      <th>4</th>\n",
       "      <td>2025-07-31</td>\n",
       "      <td>Stock market today: Dow, S&amp;P 500, Nasdaq slide...</td>\n",
       "    </tr>\n",
       "    <tr>\n",
       "      <th>5</th>\n",
       "      <td>2025-08-01</td>\n",
       "      <td>Tech earnings 'much more important' than Fed i...</td>\n",
       "    </tr>\n",
       "    <tr>\n",
       "      <th>6</th>\n",
       "      <td>2025-08-02</td>\n",
       "      <td>'The Trade War Has Lost All Credibility:' Mark...</td>\n",
       "    </tr>\n",
       "    <tr>\n",
       "      <th>7</th>\n",
       "      <td>2025-08-01</td>\n",
       "      <td>3 Artificial Intelligence (AI) Stocks That Cou...</td>\n",
       "    </tr>\n",
       "    <tr>\n",
       "      <th>8</th>\n",
       "      <td>2025-08-01</td>\n",
       "      <td>Stocks to Watch Recap: Amazon, Coinbase, Reddi...</td>\n",
       "    </tr>\n",
       "    <tr>\n",
       "      <th>9</th>\n",
       "      <td>2025-08-01</td>\n",
       "      <td>Equities, Yields Tumble Following Jobs Report ...</td>\n",
       "    </tr>\n",
       "  </tbody>\n",
       "</table>\n",
       "</div>"
      ],
      "text/plain": [
       "         date                                          headlines\n",
       "0  2025-08-01  Stock market today: Dow, S&P 500, Nasdaq tank ...\n",
       "1  2025-08-01  Big Tech's huge AI spending spree: A closer lo...\n",
       "2  2025-08-01  July jobs report: AI is contributing to job cu...\n",
       "3  2025-08-01  Amazon & Apple earnings: Takeaways from the te...\n",
       "4  2025-07-31  Stock market today: Dow, S&P 500, Nasdaq slide...\n",
       "5  2025-08-01  Tech earnings 'much more important' than Fed i...\n",
       "6  2025-08-02  'The Trade War Has Lost All Credibility:' Mark...\n",
       "7  2025-08-01  3 Artificial Intelligence (AI) Stocks That Cou...\n",
       "8  2025-08-01  Stocks to Watch Recap: Amazon, Coinbase, Reddi...\n",
       "9  2025-08-01  Equities, Yields Tumble Following Jobs Report ..."
      ]
     },
     "execution_count": 16,
     "metadata": {},
     "output_type": "execute_result"
    }
   ],
   "source": [
    "sentiment_df"
   ]
  },
  {
   "cell_type": "code",
   "execution_count": 17,
   "id": "ccef10d3",
   "metadata": {},
   "outputs": [
    {
     "data": {
      "text/plain": [
       "Index([2020-08-12, 2020-08-13, 2020-08-14, 2020-08-17, 2020-08-18, 2020-08-19,\n",
       "       2020-08-20, 2020-08-21, 2020-08-24, 2020-08-25,\n",
       "       ...\n",
       "       2025-07-21, 2025-07-22, 2025-07-23, 2025-07-24, 2025-07-25, 2025-07-28,\n",
       "       2025-07-29, 2025-07-30, 2025-07-31, 2025-08-01],\n",
       "      dtype='object', length=1249)"
      ]
     },
     "execution_count": 17,
     "metadata": {},
     "output_type": "execute_result"
    }
   ],
   "source": [
    "hist_vol.index"
   ]
  },
  {
   "cell_type": "code",
   "execution_count": 18,
   "id": "9ad14391",
   "metadata": {},
   "outputs": [],
   "source": [
    "match_dates = []\n",
    "for date in hist_vol.index:\n",
    "    if date in list(sentiment_df['date']):\n",
    "        match_dates.append(date)"
   ]
  },
  {
   "cell_type": "code",
   "execution_count": 19,
   "id": "335fd1f5",
   "metadata": {},
   "outputs": [
    {
     "data": {
      "text/plain": [
       "[datetime.date(2025, 7, 31), datetime.date(2025, 8, 1)]"
      ]
     },
     "execution_count": 19,
     "metadata": {},
     "output_type": "execute_result"
    }
   ],
   "source": [
    "match_dates"
   ]
  },
  {
   "cell_type": "code",
   "execution_count": 20,
   "id": "f2261407",
   "metadata": {},
   "outputs": [],
   "source": [
    "filtered_sentiment = sentiment_df[sentiment_df['date'].isin(match_dates)].copy()\n",
    "filtered_hist_vol = hist_vol.loc[hist_vol.index.isin(match_dates)].copy()"
   ]
  },
  {
   "cell_type": "code",
   "execution_count": 21,
   "id": "c1dc2d52",
   "metadata": {},
   "outputs": [],
   "source": [
    "if isinstance(filtered_hist_vol, pd.Series):\n",
    "    filtered_hist_vol = filtered_hist_vol.to_frame(name='vol')\n",
    "\n",
    "# Reset index to get 'date' as a column\n",
    "filtered_hist_vol = filtered_hist_vol.reset_index().rename(columns={'index': 'date'})"
   ]
  },
  {
   "cell_type": "code",
   "execution_count": 22,
   "id": "b7a91916",
   "metadata": {},
   "outputs": [],
   "source": [
    "combined_df = pd.merge(filtered_sentiment, filtered_hist_vol, on='date', how='inner')"
   ]
  },
  {
   "cell_type": "code",
   "execution_count": 23,
   "id": "3aa92bb1",
   "metadata": {},
   "outputs": [
    {
     "data": {
      "text/html": [
       "<div>\n",
       "<style scoped>\n",
       "    .dataframe tbody tr th:only-of-type {\n",
       "        vertical-align: middle;\n",
       "    }\n",
       "\n",
       "    .dataframe tbody tr th {\n",
       "        vertical-align: top;\n",
       "    }\n",
       "\n",
       "    .dataframe thead th {\n",
       "        text-align: right;\n",
       "    }\n",
       "</style>\n",
       "<table border=\"1\" class=\"dataframe\">\n",
       "  <thead>\n",
       "    <tr style=\"text-align: right;\">\n",
       "      <th></th>\n",
       "      <th>date</th>\n",
       "      <th>headlines</th>\n",
       "      <th>vol</th>\n",
       "    </tr>\n",
       "  </thead>\n",
       "  <tbody>\n",
       "    <tr>\n",
       "      <th>0</th>\n",
       "      <td>2025-08-01</td>\n",
       "      <td>Stock market today: Dow, S&amp;P 500, Nasdaq tank ...</td>\n",
       "      <td>3.561702</td>\n",
       "    </tr>\n",
       "    <tr>\n",
       "      <th>1</th>\n",
       "      <td>2025-08-01</td>\n",
       "      <td>Big Tech's huge AI spending spree: A closer lo...</td>\n",
       "      <td>3.561702</td>\n",
       "    </tr>\n",
       "    <tr>\n",
       "      <th>2</th>\n",
       "      <td>2025-08-01</td>\n",
       "      <td>July jobs report: AI is contributing to job cu...</td>\n",
       "      <td>3.561702</td>\n",
       "    </tr>\n",
       "    <tr>\n",
       "      <th>3</th>\n",
       "      <td>2025-08-01</td>\n",
       "      <td>Amazon &amp; Apple earnings: Takeaways from the te...</td>\n",
       "      <td>3.561702</td>\n",
       "    </tr>\n",
       "    <tr>\n",
       "      <th>4</th>\n",
       "      <td>2025-07-31</td>\n",
       "      <td>Stock market today: Dow, S&amp;P 500, Nasdaq slide...</td>\n",
       "      <td>0.991315</td>\n",
       "    </tr>\n",
       "    <tr>\n",
       "      <th>5</th>\n",
       "      <td>2025-08-01</td>\n",
       "      <td>Tech earnings 'much more important' than Fed i...</td>\n",
       "      <td>3.561702</td>\n",
       "    </tr>\n",
       "    <tr>\n",
       "      <th>6</th>\n",
       "      <td>2025-08-01</td>\n",
       "      <td>3 Artificial Intelligence (AI) Stocks That Cou...</td>\n",
       "      <td>3.561702</td>\n",
       "    </tr>\n",
       "    <tr>\n",
       "      <th>7</th>\n",
       "      <td>2025-08-01</td>\n",
       "      <td>Stocks to Watch Recap: Amazon, Coinbase, Reddi...</td>\n",
       "      <td>3.561702</td>\n",
       "    </tr>\n",
       "    <tr>\n",
       "      <th>8</th>\n",
       "      <td>2025-08-01</td>\n",
       "      <td>Equities, Yields Tumble Following Jobs Report ...</td>\n",
       "      <td>3.561702</td>\n",
       "    </tr>\n",
       "  </tbody>\n",
       "</table>\n",
       "</div>"
      ],
      "text/plain": [
       "         date                                          headlines       vol\n",
       "0  2025-08-01  Stock market today: Dow, S&P 500, Nasdaq tank ...  3.561702\n",
       "1  2025-08-01  Big Tech's huge AI spending spree: A closer lo...  3.561702\n",
       "2  2025-08-01  July jobs report: AI is contributing to job cu...  3.561702\n",
       "3  2025-08-01  Amazon & Apple earnings: Takeaways from the te...  3.561702\n",
       "4  2025-07-31  Stock market today: Dow, S&P 500, Nasdaq slide...  0.991315\n",
       "5  2025-08-01  Tech earnings 'much more important' than Fed i...  3.561702\n",
       "6  2025-08-01  3 Artificial Intelligence (AI) Stocks That Cou...  3.561702\n",
       "7  2025-08-01  Stocks to Watch Recap: Amazon, Coinbase, Reddi...  3.561702\n",
       "8  2025-08-01  Equities, Yields Tumble Following Jobs Report ...  3.561702"
      ]
     },
     "execution_count": 23,
     "metadata": {},
     "output_type": "execute_result"
    }
   ],
   "source": [
    "combined_df"
   ]
  },
  {
   "cell_type": "code",
   "execution_count": 24,
   "id": "e7945542",
   "metadata": {},
   "outputs": [],
   "source": [
    "combined_df['sentiment'] = combined_df['headlines'].apply(lambda x: sia.polarity_scores(x)['compound'])"
   ]
  },
  {
   "cell_type": "code",
   "execution_count": 25,
   "id": "0d319132",
   "metadata": {},
   "outputs": [],
   "source": [
    "combined_df['hist_vol'] = combined_df['vol']\n",
    "combined_df = combined_df.drop(columns=['vol'])"
   ]
  },
  {
   "cell_type": "code",
   "execution_count": 26,
   "id": "3bc02ad8",
   "metadata": {},
   "outputs": [
    {
     "data": {
      "text/html": [
       "<div>\n",
       "<style scoped>\n",
       "    .dataframe tbody tr th:only-of-type {\n",
       "        vertical-align: middle;\n",
       "    }\n",
       "\n",
       "    .dataframe tbody tr th {\n",
       "        vertical-align: top;\n",
       "    }\n",
       "\n",
       "    .dataframe thead th {\n",
       "        text-align: right;\n",
       "    }\n",
       "</style>\n",
       "<table border=\"1\" class=\"dataframe\">\n",
       "  <thead>\n",
       "    <tr style=\"text-align: right;\">\n",
       "      <th></th>\n",
       "      <th>date</th>\n",
       "      <th>headlines</th>\n",
       "      <th>sentiment</th>\n",
       "      <th>hist_vol</th>\n",
       "    </tr>\n",
       "  </thead>\n",
       "  <tbody>\n",
       "    <tr>\n",
       "      <th>0</th>\n",
       "      <td>2025-08-01</td>\n",
       "      <td>Stock market today: Dow, S&amp;P 500, Nasdaq tank ...</td>\n",
       "      <td>0.1027</td>\n",
       "      <td>3.561702</td>\n",
       "    </tr>\n",
       "    <tr>\n",
       "      <th>1</th>\n",
       "      <td>2025-08-01</td>\n",
       "      <td>Big Tech's huge AI spending spree: A closer lo...</td>\n",
       "      <td>0.3182</td>\n",
       "      <td>3.561702</td>\n",
       "    </tr>\n",
       "    <tr>\n",
       "      <th>2</th>\n",
       "      <td>2025-08-01</td>\n",
       "      <td>July jobs report: AI is contributing to job cu...</td>\n",
       "      <td>-0.2960</td>\n",
       "      <td>3.561702</td>\n",
       "    </tr>\n",
       "    <tr>\n",
       "      <th>3</th>\n",
       "      <td>2025-08-01</td>\n",
       "      <td>Amazon &amp; Apple earnings: Takeaways from the te...</td>\n",
       "      <td>0.1779</td>\n",
       "      <td>3.561702</td>\n",
       "    </tr>\n",
       "    <tr>\n",
       "      <th>4</th>\n",
       "      <td>2025-07-31</td>\n",
       "      <td>Stock market today: Dow, S&amp;P 500, Nasdaq slide...</td>\n",
       "      <td>-0.0772</td>\n",
       "      <td>0.991315</td>\n",
       "    </tr>\n",
       "    <tr>\n",
       "      <th>5</th>\n",
       "      <td>2025-08-01</td>\n",
       "      <td>Tech earnings 'much more important' than Fed i...</td>\n",
       "      <td>0.2716</td>\n",
       "      <td>3.561702</td>\n",
       "    </tr>\n",
       "    <tr>\n",
       "      <th>6</th>\n",
       "      <td>2025-08-01</td>\n",
       "      <td>3 Artificial Intelligence (AI) Stocks That Cou...</td>\n",
       "      <td>0.4767</td>\n",
       "      <td>3.561702</td>\n",
       "    </tr>\n",
       "    <tr>\n",
       "      <th>7</th>\n",
       "      <td>2025-08-01</td>\n",
       "      <td>Stocks to Watch Recap: Amazon, Coinbase, Reddi...</td>\n",
       "      <td>0.1779</td>\n",
       "      <td>3.561702</td>\n",
       "    </tr>\n",
       "    <tr>\n",
       "      <th>8</th>\n",
       "      <td>2025-08-01</td>\n",
       "      <td>Equities, Yields Tumble Following Jobs Report ...</td>\n",
       "      <td>-0.3818</td>\n",
       "      <td>3.561702</td>\n",
       "    </tr>\n",
       "  </tbody>\n",
       "</table>\n",
       "</div>"
      ],
      "text/plain": [
       "         date                                          headlines  sentiment  \\\n",
       "0  2025-08-01  Stock market today: Dow, S&P 500, Nasdaq tank ...     0.1027   \n",
       "1  2025-08-01  Big Tech's huge AI spending spree: A closer lo...     0.3182   \n",
       "2  2025-08-01  July jobs report: AI is contributing to job cu...    -0.2960   \n",
       "3  2025-08-01  Amazon & Apple earnings: Takeaways from the te...     0.1779   \n",
       "4  2025-07-31  Stock market today: Dow, S&P 500, Nasdaq slide...    -0.0772   \n",
       "5  2025-08-01  Tech earnings 'much more important' than Fed i...     0.2716   \n",
       "6  2025-08-01  3 Artificial Intelligence (AI) Stocks That Cou...     0.4767   \n",
       "7  2025-08-01  Stocks to Watch Recap: Amazon, Coinbase, Reddi...     0.1779   \n",
       "8  2025-08-01  Equities, Yields Tumble Following Jobs Report ...    -0.3818   \n",
       "\n",
       "   hist_vol  \n",
       "0  3.561702  \n",
       "1  3.561702  \n",
       "2  3.561702  \n",
       "3  3.561702  \n",
       "4  0.991315  \n",
       "5  3.561702  \n",
       "6  3.561702  \n",
       "7  3.561702  \n",
       "8  3.561702  "
      ]
     },
     "execution_count": 26,
     "metadata": {},
     "output_type": "execute_result"
    }
   ],
   "source": [
    "combined_df"
   ]
  },
  {
   "cell_type": "code",
   "execution_count": 28,
   "id": "f90cf9c6",
   "metadata": {},
   "outputs": [],
   "source": [
    "import matplotlib.pyplot as plt\n",
    "from sklearn.linear_model import LinearRegression\n",
    "X = combined_df['sentiment'].values.reshape(-1, 1)\n",
    "y = combined_df['hist_vol'].values\n",
    "\n",
    "model = LinearRegression()\n",
    "model.fit(X, y)\n",
    "y_pred = model.predict(X)\n",
    "\n",
    "\n"
   ]
  },
  {
   "cell_type": "code",
   "execution_count": 29,
   "id": "49d08dd1",
   "metadata": {},
   "outputs": [
    {
     "data": {
      "image/png": "[encoded data removed]",
      "text/plain": [
       "<Figure size 1000x600 with 1 Axes>"
      ]
     },
     "metadata": {},
     "output_type": "display_data"
    }
   ],
   "source": [
    "plt.figure(figsize=(10, 6))\n",
    "plt.scatter(X, y, color='red', label='Actual Data')\n",
    "plt.plot(X, y_pred, color='blue', linewidth=2, label='Regression Line')\n",
    "plt.xlabel('Sentiment Score')\n",
    "plt.ylabel('Volatility')\n",
    "plt.title('Linear Regression: Sentiment vs Volatility')\n",
    "plt.legend()\n",
    "plt.grid(True)\n",
    "plt.tight_layout()\n",
    "plt.show()"
   ]
  },
  {
   "cell_type": "code",
   "execution_count": 32,
   "id": "3d465c31",
   "metadata": {},
   "outputs": [
    {
     "data": {
      "text/plain": [
       "np.float64(0.020285873859561605)"
      ]
     },
     "execution_count": 32,
     "metadata": {},
     "output_type": "execute_result"
    }
   ],
   "source": [
    "nearest_expiry = tk.options[0]\n",
    "calls_df = tk.option_chain(nearest_expiry).calls\n",
    "puts_df = tk.option_chain(nearest_expiry).puts\n",
    "spot = tk.history(period='max', interval='1d')['Close'].iloc[-1]\n",
    "atm_call = calls_df.iloc[(calls_df['strike'] - spot).abs().argmin()]\n",
    "call_iv = atm_call['impliedVolatility']\n",
    "atm_put = puts_df.iloc[(puts_df['strike'] - spot).abs().argmin()]\n",
    "put_iv = atm_put['impliedVolatility']\n",
    "daily_iv = ((call_iv + put_iv) / 2 if abs(call_iv - put_iv) <= 0.0001 else call_iv if call_iv > put_iv else put_iv) / np.sqrt(252)\n",
    "daily_iv"
   ]
  },
  {
   "cell_type": "code",
   "execution_count": 33,
   "id": "e1fbc448",
   "metadata": {},
   "outputs": [
    {
     "data": {
      "text/plain": [
       "(np.float64(0.30103238037109376), np.float64(0.3220282641601562))"
      ]
     },
     "execution_count": 33,
     "metadata": {},
     "output_type": "execute_result"
    }
   ],
   "source": [
    "put_iv, call_iv"
   ]
  },
  {
   "cell_type": "code",
   "execution_count": 35,
   "id": "0b3c95bf",
   "metadata": {},
   "outputs": [],
   "source": [
    "from arch import arch_model"
   ]
  },
  {
   "cell_type": "code",
   "execution_count": 42,
   "id": "be85fb86",
   "metadata": {},
   "outputs": [
    {
     "name": "stdout",
     "output_type": "stream",
     "text": [
      "                     Constant Mean - GARCH Model Results                      \n",
      "==============================================================================\n",
      "Dep. Variable:                  Close   R-squared:                       0.000\n",
      "Mean Model:             Constant Mean   Adj. R-squared:                  0.000\n",
      "Vol Model:                      GARCH   Log-Likelihood:               -2714.62\n",
      "Distribution:                  Normal   AIC:                           5437.23\n",
      "Method:            Maximum Likelihood   BIC:                           5457.77\n",
      "                                        No. Observations:                 1255\n",
      "Date:                Sat, Aug 02 2025   Df Residuals:                     1254\n",
      "Time:                        08:23:50   Df Model:                            1\n",
      "                                 Mean Model                                \n",
      "===========================================================================\n",
      "                 coef    std err          t      P>|t|     95.0% Conf. Int.\n",
      "---------------------------------------------------------------------------\n",
      "mu             0.0566  5.892e-02      0.960      0.337 [-5.891e-02,  0.172]\n",
      "                              Volatility Model                             \n",
      "===========================================================================\n",
      "                 coef    std err          t      P>|t|     95.0% Conf. Int.\n",
      "---------------------------------------------------------------------------\n",
      "omega          0.4875      0.347      1.403      0.161    [ -0.193,  1.168]\n",
      "alpha[1]       0.1759  9.281e-02      1.895  5.803e-02 [-5.988e-03,  0.358]\n",
      "beta[1]        0.7392      0.137      5.394  6.878e-08    [  0.471,  1.008]\n",
      "===========================================================================\n",
      "\n",
      "Covariance estimator: robust\n"
     ]
    }
   ],
   "source": [
    "am = arch_model(log_returns, vol='Garch', p=1, q=1)\n",
    "res = am.fit(update_freq=5, disp=\"off\")\n",
    "print(res.summary())\n"
   ]
  },
  {
   "cell_type": "code",
   "execution_count": 43,
   "id": "5ebe72c9",
   "metadata": {},
   "outputs": [
    {
     "data": {
      "image/png": "[encoded data removed]",
      "text/plain": [
       "<Figure size 1000x400 with 1 Axes>"
      ]
     },
     "metadata": {},
     "output_type": "display_data"
    }
   ],
   "source": [
    "plt.figure(figsize=(10, 4))\n",
    "plt.plot(res.conditional_volatility, label='GARCH Volatility')\n",
    "plt.title('Conditional Volatility (GARCH)')\n",
    "plt.legend()\n",
    "plt.show()"
   ]
  },
  {
   "cell_type": "code",
   "execution_count": null,
   "id": "e600ffc4",
   "metadata": {},
   "outputs": [
    {
     "name": "stdout",
     "output_type": "stream",
     "text": [
      "\n",
      "--- Volatility Forecast (Annualized) ---\n",
      "                     Date  Annualized_Volatility_Forecast (%)\n",
      "2025-08-04 00:00:00-04:00                           62.943550\n",
      "2025-08-05 00:00:00-04:00                           61.223831\n",
      "2025-08-06 00:00:00-04:00                           59.606667\n",
      "2025-08-07 00:00:00-04:00                           58.087374\n",
      "2025-08-08 00:00:00-04:00                           56.661395\n"
     ]
    }
   ],
   "source": [
    "forecast_horizon = 5\n",
    "forecasts = res.forecast(horizon=forecast_horizon)\n",
    "last_historical_date = log_returns.index[-1]\n",
    "\n",
    "forecast_dates = pd.date_range(start=last_historical_date + pd.Timedelta(days=1), periods=forecast_horizon, freq='B')\n",
    "annualized_volatility_forecasts = []\n",
    "for i in range(forecast_horizon):\n",
    "\n",
    "    daily_variance_forecast = forecasts.variance.iloc[-1, i] / (100**2)\n",
    "    annualized_vol = np.sqrt(daily_variance_forecast * 252) * 100\n",
    "    annualized_volatility_forecasts.append(annualized_vol)\n",
    "\n",
    "forecast_df = pd.DataFrame({\n",
    "    'Date': forecast_dates,\n",
    "    'Annualized_Volatility_Forecast (%)': annualized_volatility_forecasts\n",
    "})\n",
    "\n",
    "print(\"\\n--- Volatility Forecast (Annualized) ---\")\n",
    "print(forecast_df.to_string(index=False))"
   ]
  }
 ],
 "metadata": {
  "kernelspec": {
   "display_name": "Python 3",
   "language": "python",
   "name": "python3"
  },
  "language_info": {
   "codemirror_mode": {
    "name": "ipython",
    "version": 3
   },
   "file_extension": ".py",
   "mimetype": "text/x-python",
   "name": "python",
   "nbconvert_exporter": "python",
   "pygments_lexer": "ipython3",
   "version": "3.13.5"
  }
 },
 "nbformat": 4,
 "nbformat_minor": 5
}
